{
 "cells": [
  {
   "cell_type": "markdown",
   "id": "f1ea0aac",
   "metadata": {},
   "source": [
    "# Core Statistics Using Python\n",
    "### Hana Choi, Simon Business School, University of Rochester\n"
   ]
  },
  {
   "cell_type": "markdown",
   "id": "2d622844",
   "metadata": {},
   "source": [
    "# Assignment 3 Solutions\n",
    "\n",
    "## Required packages"
   ]
  },
  {
   "cell_type": "code",
   "execution_count": null,
   "id": "ab4a85e6",
   "metadata": {},
   "outputs": [],
   "source": [
    "import pandas as pd\n",
    "import statsmodels.formula.api as smf\n",
    "from scipy import optimize"
   ]
  },
  {
   "cell_type": "markdown",
   "id": "91c04759",
   "metadata": {},
   "source": [
    "# Question 1\n",
    "\n",
    "- These solutions replicate the results from the Excel solutions (\"PS3SolnQ1.xlsx\")\n",
    "\n",
    "## Loading data\n",
    "\n",
    "- The data are constructed by hand\n",
    "- See bottom of this file for a version that scrapes data from the web"
   ]
  },
  {
   "cell_type": "code",
   "execution_count": null,
   "id": "bf9bfed8",
   "metadata": {},
   "outputs": [],
   "source": [
    "capm_data = pd.read_csv(\"/Users/hanachoi/Dropbox/teaching/core_statistics/Assignments/Solutions/PS3SolnQ1_data.csv\")\n",
    "\n",
    "# Display the first few rows of the dataframe\n",
    "print(capm_data.head())"
   ]
  },
  {
   "cell_type": "markdown",
   "id": "b7df65ac",
   "metadata": {},
   "source": [
    "## Running regression analysis for each company"
   ]
  },
  {
   "cell_type": "code",
   "execution_count": null,
   "id": "4b549efc",
   "metadata": {},
   "outputs": [],
   "source": [
    "# HD\n",
    "hd_fit = smf.ols('R_HD ~ Mkt_Rf', data = capm_data).fit()\n",
    "print(hd_fit.summary())"
   ]
  },
  {
   "cell_type": "code",
   "execution_count": null,
   "id": "677c7b59",
   "metadata": {},
   "outputs": [],
   "source": [
    "# AAPL\n",
    "aapl_fit = smf.ols('R_AAPL ~ Mkt_Rf', data = capm_data).fit()\n",
    "print(aapl_fit.summary())"
   ]
  },
  {
   "cell_type": "code",
   "execution_count": null,
   "id": "69ee82d6",
   "metadata": {},
   "outputs": [],
   "source": [
    "# VZ\n",
    "vz_fit = smf.ols('R_VZ ~ Mkt_Rf', data = capm_data).fit()\n",
    "print(vz_fit.summary())"
   ]
  },
  {
   "cell_type": "code",
   "execution_count": null,
   "id": "58c99a5b",
   "metadata": {
    "scrolled": false
   },
   "outputs": [],
   "source": [
    "# CSCO\n",
    "csco_fit = smf.ols('R_CSCO ~ Mkt_Rf', data = capm_data).fit()\n",
    "print(csco_fit.summary())"
   ]
  },
  {
   "cell_type": "markdown",
   "id": "a94bf3cf",
   "metadata": {},
   "source": [
    "## More elegant way of writing the above code\n",
    "\n",
    "- When writing code, we want to avoid repeatedly writing the same code.\n",
    "- In this assignment, we are conducting regression analyses repeatedly for different companies.\n",
    "- To minimize redundancy and enhance code readability, we can define a function that runs linear regression and prints out the summary."
   ]
  },
  {
   "cell_type": "code",
   "execution_count": null,
   "id": "5e3b27be",
   "metadata": {},
   "outputs": [],
   "source": [
    "# Define function to run regression and print summary\n",
    "def run_regression(data, y, x):\n",
    "    model = smf.ols(f'{y} ~ {x}', data=data).fit()\n",
    "    print(model.summary())\n",
    "    return model"
   ]
  },
  {
   "cell_type": "code",
   "execution_count": null,
   "id": "af7ed110",
   "metadata": {
    "scrolled": false
   },
   "outputs": [],
   "source": [
    "# Repeat regression analysis for multiple companies\n",
    "HD = run_regression(capm_data, 'R_HD', 'Mkt_Rf')\n",
    "AAPL = run_regression(capm_data, 'R_AAPL', 'Mkt_Rf')\n",
    "VZ = run_regression(capm_data, 'R_VZ', 'Mkt_Rf')\n",
    "CSCO = run_regression(capm_data, 'R_CSCO', 'Mkt_Rf')"
   ]
  },
  {
   "cell_type": "markdown",
   "id": "e636be8a",
   "metadata": {},
   "source": [
    "# Question 2\n",
    "\n",
    "## Loading data"
   ]
  },
  {
   "cell_type": "code",
   "execution_count": null,
   "id": "45144158",
   "metadata": {},
   "outputs": [],
   "source": [
    "rfj_data = pd.read_csv(\"/Users/hanachoi/Dropbox/teaching/core_statistics/Data/rfj_data.csv\")\n",
    "\n",
    "# Display the first few rows of the dataframe\n",
    "print(rfj_data.head())"
   ]
  },
  {
   "cell_type": "markdown",
   "id": "acc186db",
   "metadata": {},
   "source": [
    "## Question 2 (a):  Run simple linear regressions and compute price elasticities"
   ]
  },
  {
   "cell_type": "markdown",
   "id": "ff38e7a1",
   "metadata": {},
   "source": [
    "### Tropicana"
   ]
  },
  {
   "cell_type": "code",
   "execution_count": null,
   "id": "95e2ba61",
   "metadata": {
    "scrolled": false
   },
   "outputs": [],
   "source": [
    "trop_fit = smf.ols('q1 ~ p1', data = rfj_data).fit()\n",
    "print(trop_fit.summary())\n",
    "\n",
    "trop_elasticity = trop_fit.params.iloc[1] * rfj_data['p1'].mean() /rfj_data['q1'].mean()\n",
    "print(\"Elasticity Tropicana:\", trop_elasticity)"
   ]
  },
  {
   "cell_type": "markdown",
   "id": "038f80b1",
   "metadata": {},
   "source": [
    "### Minute Maid"
   ]
  },
  {
   "cell_type": "code",
   "execution_count": null,
   "id": "1eef0d34",
   "metadata": {},
   "outputs": [],
   "source": [
    "mm_fit = smf.ols('q2 ~ p2', data = rfj_data).fit()\n",
    "print(mm_fit.summary())\n",
    "\n",
    "mm_elasticity = mm_fit.params.iloc[1] * rfj_data['p2'].mean() /rfj_data['q2'].mean()\n",
    "print(\"Elasticity Minute Maid:\", mm_elasticity)"
   ]
  },
  {
   "cell_type": "markdown",
   "id": "445c5593",
   "metadata": {},
   "source": [
    "### Private Label"
   ]
  },
  {
   "cell_type": "code",
   "execution_count": null,
   "id": "74f2b020",
   "metadata": {
    "scrolled": false
   },
   "outputs": [],
   "source": [
    "priv_fit = smf.ols('q3 ~ p3', data = rfj_data).fit()\n",
    "print(priv_fit.summary())\n",
    "\n",
    "priv_elasticity = priv_fit.params.iloc[1] * rfj_data['p3'].mean() /rfj_data['q3'].mean()\n",
    "print(\"Elasticity Private Label:\", priv_elasticity)"
   ]
  },
  {
   "cell_type": "markdown",
   "id": "ec17da51",
   "metadata": {},
   "source": [
    "### More elegant way of writing the above code"
   ]
  },
  {
   "cell_type": "code",
   "execution_count": null,
   "id": "35b090fc",
   "metadata": {},
   "outputs": [],
   "source": [
    "# Define function to calculate price elasticity\n",
    "def calculate_elasticity(model, data, p_var, q_var):\n",
    "    slope = model.params.iloc[1]\n",
    "    intercept = model.params.iloc[0]\n",
    "    elasticity = slope * data[p_var].mean() / data[q_var].mean()\n",
    "    return slope, intercept, elasticity\n",
    "\n",
    "# Run regression and print summary\n",
    "# We already defined run_regression function in Q1 so we can re-use it\n",
    "trop_fit = run_regression(rfj_data, 'q1', 'p1') \n",
    "mm_fit = run_regression(rfj_data, 'q2', 'p2')\n",
    "priv_fit = run_regression(rfj_data, 'q3', 'p3')\n",
    "\n",
    "# Calculate price elasticities and print the results\n",
    "trop_slope, trop_int, trop_elasticity = calculate_elasticity(trop_fit, rfj_data, 'p1', 'q1')\n",
    "mm_slope, mm_int, mm_elasticity = calculate_elasticity(mm_fit, rfj_data, 'p2', 'q2')\n",
    "priv_slope, priv_int, priv_elasticity = calculate_elasticity(priv_fit, rfj_data, 'p3', 'q3')\n",
    "\n",
    "print(\"Elasticity Tropicana:\", trop_elasticity)\n",
    "print(\"Elasticity Minute Maid:\", mm_elasticity)\n",
    "print(\"Elasticity Private Label:\", priv_elasticity)"
   ]
  },
  {
   "cell_type": "markdown",
   "id": "f58cc8c8",
   "metadata": {},
   "source": [
    "## Question 2 (b):  Find the optimal price for each brand"
   ]
  },
  {
   "cell_type": "code",
   "execution_count": null,
   "id": "856b3a23",
   "metadata": {},
   "outputs": [],
   "source": [
    "# Define the profit function\n",
    "def profit(p, beta0, beta1):\n",
    "    profit = (p - 0.01) * (beta0 + beta1 * p)\n",
    "    return profit"
   ]
  },
  {
   "cell_type": "code",
   "execution_count": null,
   "id": "c79058f2",
   "metadata": {},
   "outputs": [],
   "source": [
    "# Function to maximize profit by minimizing the negative profit\n",
    "def maximize_profit(beta0, beta1):\n",
    "    # Minimize the negative profit\n",
    "    result = optimize.minimize_scalar(lambda p: -profit(p, beta0, beta1), bounds=(0, 1000), method='bounded')\n",
    "    return result"
   ]
  },
  {
   "cell_type": "code",
   "execution_count": null,
   "id": "97972a25",
   "metadata": {},
   "outputs": [],
   "source": [
    "# Maximize profits to find optimal price for each brand\n",
    "# We have previously stored the intercept and slope variables from the output of the calculate_elasticity() function in section 4.2.4.\n",
    "optimal_price_trop = maximize_profit(trop_int, trop_slope)\n",
    "optimal_price_mm = maximize_profit(mm_int, mm_slope)\n",
    "optimal_price_priv = maximize_profit(priv_int, priv_slope)\n",
    "\n",
    "# Print optimal prices\n",
    "print(\"Optimal Price for Tropicana:\", optimal_price_trop.x)\n",
    "print(\"Optimal Price for Minute Maid:\", optimal_price_mm.x)\n",
    "print(\"Optimal Price for Private Label:\", optimal_price_priv.x)"
   ]
  },
  {
   "cell_type": "markdown",
   "id": "9cfa583c",
   "metadata": {},
   "source": [
    "# Alternative Solutions for Q1\n",
    "\n",
    "- Here I will present alternative solutions that scrape the data from the web, use different choices for the market index and risk free rate, and allow you to change the time frequency used."
   ]
  },
  {
   "cell_type": "markdown",
   "id": "86b892eb",
   "metadata": {},
   "source": [
    "## Scrapping data using yfinance\n",
    "\n",
    "- yfinance is a package that offers a method of downloading historical market data from Yahoo! Finance's API.\n",
    "- To utilize yfinance, students must first install the package by executing `conda install yfinance` in terminal within our virtual environment, which is the recommended practice for package installation. \n",
    "- Once installed, we can import this package and use the the functionalities offered by it."
   ]
  },
  {
   "cell_type": "markdown",
   "id": "953cde6f",
   "metadata": {},
   "source": [
    "### Import library"
   ]
  },
  {
   "cell_type": "code",
   "execution_count": null,
   "id": "c83eb8fe",
   "metadata": {},
   "outputs": [],
   "source": [
    "# Importing yfinance\n",
    "import yfinance as yf"
   ]
  },
  {
   "cell_type": "markdown",
   "id": "db067350",
   "metadata": {},
   "source": [
    "### Fetch data"
   ]
  },
  {
   "cell_type": "code",
   "execution_count": null,
   "id": "b2ae40d7",
   "metadata": {},
   "outputs": [],
   "source": [
    "# Define the ticker symbols\n",
    "# I am using the SP500 for the Market Return and IRX for the risk free rate\n",
    "# \"^IRX\": 13 week treasury bill\n",
    "# \"^GSPC\": S&P 500\n",
    "symbols = [\"^IRX\", \"^GSPC\", \"HD\", \"AAPL\", \"VZ\", \"CSCO\"]\n",
    "\n",
    "# Fetch historical data from Yahoo Finance\n",
    "# Note that you can change time interval below to something other than monthly.\n",
    "data = {symbol: yf.download(symbol, start='1990-01-01', end='1999-12-31', interval='1mo') for symbol in symbols}\n",
    "\n",
    "# Now 'data' dictionary contains the historical data for each symbol"
   ]
  },
  {
   "cell_type": "markdown",
   "id": "abc4e8b5",
   "metadata": {},
   "source": [
    "## Prepare the dataset"
   ]
  },
  {
   "cell_type": "code",
   "execution_count": null,
   "id": "23b6e183",
   "metadata": {},
   "outputs": [],
   "source": [
    "# Calculate monthly returns and convert IRX to the appropriate frequency.\n",
    "def calculate_returns(df):\n",
    "    return df['Adj Close'].pct_change()\n",
    "\n",
    "# Prepare returns DataFrame\n",
    "returns = pd.DataFrame({symbol: calculate_returns(data[symbol]) for symbol in symbols})\n",
    "\n",
    "# Note that the \"Treasury Yield\" Yahoo shows is the annual \"return rates\" (not prices)\n",
    "# As the data collected is monthly, we will need to convert yearly IRX to monthly.\n",
    "# If you choose a different time interval than monthly, you need to change the \"timeunit\" value below accordingly.\n",
    "# For weekly, set to 52 (daily leads to some problems with the IRX index)\n",
    "# Here I am setting it equal to 12 for monthly data.\n",
    "timeunit = 12\n",
    "returns['RF'] = (1 + data['^IRX']['Adj Close'] / 100) ** (1 / timeunit) - 1 # This formula accounts for compound."
   ]
  },
  {
   "cell_type": "markdown",
   "id": "a2891416",
   "metadata": {},
   "source": [
    "## Regression Analyses\n",
    "\n",
    "### CAPM with no risk free rate included"
   ]
  },
  {
   "cell_type": "code",
   "execution_count": null,
   "id": "948572f5",
   "metadata": {},
   "outputs": [],
   "source": [
    "# First let's run CAPM with no risk free rate included\n",
    "# We can again re-use run_regression function defined in Q1.\n",
    "for symbol in [\"HD\", \"AAPL\", \"VZ\", \"CSCO\"]:\n",
    "    # patsy Q(\"\") is a way to ‘quote’ variable names, especially ones that do not otherwise meet Python’s variable name rules.\n",
    "    run_regression(returns, symbol, 'Q(\"^GSPC\")')    "
   ]
  },
  {
   "cell_type": "markdown",
   "id": "2edf6899",
   "metadata": {},
   "source": [
    "### CAPM with constant Rf rate"
   ]
  },
  {
   "cell_type": "code",
   "execution_count": null,
   "id": "d01a4b44",
   "metadata": {},
   "outputs": [],
   "source": [
    "# Now let's use a constant RF rate\n",
    "# I am setting it equal to the sample average of RF\n",
    "rfrate = returns['RF'].mean()\n",
    "returns['^GSPC_RF'] = returns['^GSPC'] - rfrate\n",
    "for symbol in [\"HD\", \"AAPL\", \"VZ\", \"CSCO\"]:\n",
    "    returns[f\"{symbol}_RF\"] = returns[symbol] - rfrate\n",
    "    run_regression(returns, f\"{symbol}_RF\", 'Q(\"^GSPC_RF\")')\n",
    "    \n",
    "# Using a fixed Rf rate does not change the calculation of beta at all.\n",
    "# It simply shifts the intercept - do you understand why?"
   ]
  },
  {
   "cell_type": "markdown",
   "id": "fbc42173",
   "metadata": {},
   "source": [
    "### CAPM with time varying Rf rate"
   ]
  },
  {
   "cell_type": "code",
   "execution_count": null,
   "id": "8a7903de",
   "metadata": {},
   "outputs": [],
   "source": [
    "# Finally, let's allow for a time varying risk free rate\n",
    "returns['^GSPC_RFt'] = returns['^GSPC'] - returns['RF']\n",
    "for symbol in [\"HD\", \"AAPL\", \"VZ\", \"CSCO\"]:\n",
    "    returns[f\"{symbol}_RFt\"] = returns[symbol] - returns['RF']\n",
    "    run_regression(returns, f\"{symbol}_RFt\", 'Q(\"^GSPC_RFt\")')"
   ]
  }
 ],
 "metadata": {
  "kernelspec": {
   "display_name": "Python 3 (ipykernel)",
   "language": "python",
   "name": "python3"
  },
  "language_info": {
   "codemirror_mode": {
    "name": "ipython",
    "version": 3
   },
   "file_extension": ".py",
   "mimetype": "text/x-python",
   "name": "python",
   "nbconvert_exporter": "python",
   "pygments_lexer": "ipython3",
   "version": "3.12.2"
  },
  "toc": {
   "base_numbering": 1,
   "nav_menu": {},
   "number_sections": true,
   "sideBar": true,
   "skip_h1_title": false,
   "title_cell": "Table of Contents",
   "title_sidebar": "Contents",
   "toc_cell": false,
   "toc_position": {},
   "toc_section_display": true,
   "toc_window_display": false
  }
 },
 "nbformat": 4,
 "nbformat_minor": 5
}

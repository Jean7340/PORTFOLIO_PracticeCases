{
 "cells": [
  {
   "cell_type": "markdown",
   "metadata": {},
   "source": [
    "## Programming for Analytics -- Homework Assignment 2\n",
    "## \"Taylor on the Billboard\"\n",
    "\n",
    "#### Name: Yufeng Huang\n",
    "#### Email: yufeng.huang@simon.rochester.edu\n",
    "#### Date: 8/9/2024\n"
   ]
  },
  {
   "cell_type": "markdown",
   "metadata": {},
   "source": [
    "## 0. General Objective\n",
    "In this assignment, you will work with multiple CSV files containing Billboard 200 data from 2006 to 2020. Your goal is to load, clean, and concatenate the data into a single Pandas DataFrame. In this process, you will also focus on specific columns instead of keeping all columns. Additionally, you will format the date column, generate new variables, and perform specific analyses related to Taylor Swift. Good luck and have fun!"
   ]
  },
  {
   "cell_type": "markdown",
   "metadata": {},
   "source": [
    "To begin, download the zip file containing all the data files. In the folder where this notebook sits, extract the zip file directly to this folder, so that all csv files are in the folder `py-billboard200`. For example, on my computer, this notebook is under `6_2_assignment_2/assignment_2.ipynb`. Then all my data csv files are under `6_2_assignment_2/py-billboard200/`."
   ]
  },
  {
   "cell_type": "markdown",
   "metadata": {},
   "source": [
    "## 1. Initial Data Construction\n",
    "\n",
    "1a. You are provided with multiple CSV files, each corresponding to a year between 2008 and 2020. The files are named in the format `billboard-200-YEAR.csv` where `YEAR` refers to 1967 to 2020. Create a Pandas DataFrame, `billboard_ranking`, For each file from year 2006 to year 2020:\n",
    "- Load the file into a Pandas DataFrame.\n",
    "- Retain only the following columns: `date`, `title`, `artist`, and `current`. Rename `current` into `ranking` because it is the current week's ranking for that artist.\n",
    "- Concatenate this data frame to the data frame `billboard_ranking`. \n",
    "\n",
    "In the process of reading files, some files might have some mis-recorded rows that are difficult to read. Skip these lines by using parameter `on_bad_lines=\"skip\"` or `on_bad_lines=\"warn\"`.\n"
   ]
  },
  {
   "cell_type": "code",
   "execution_count": 30,
   "metadata": {},
   "outputs": [],
   "source": [
    "# Import\n",
    "import numpy as np\n",
    "import pandas as pd\n",
    "import matplotlib.pyplot as plt"
   ]
  },
  {
   "cell_type": "code",
   "execution_count": 61,
   "metadata": {},
   "outputs": [
    {
     "name": "stderr",
     "output_type": "stream",
     "text": [
      "C:\\Users\\yfhua\\AppData\\Local\\Temp\\ipykernel_17696\\14272744.py:4: ParserWarning: Skipping line 1511: expected 8 fields, saw 9\n",
      "\n",
      "  temp_data = pd.read_csv(f\"./py-billboard200/billboard-200-{yr}.csv\", on_bad_lines=\"warn\")   # \"warn\" if bad lines, so we know how many but for now won't do anything\n",
      "C:\\Users\\yfhua\\AppData\\Local\\Temp\\ipykernel_17696\\14272744.py:4: ParserWarning: Skipping line 3387: expected 8 fields, saw 9\n",
      "Skipping line 3490: expected 8 fields, saw 9\n",
      "Skipping line 3624: expected 8 fields, saw 9\n",
      "\n",
      "  temp_data = pd.read_csv(f\"./py-billboard200/billboard-200-{yr}.csv\", on_bad_lines=\"warn\")   # \"warn\" if bad lines, so we know how many but for now won't do anything\n",
      "C:\\Users\\yfhua\\AppData\\Local\\Temp\\ipykernel_17696\\14272744.py:4: ParserWarning: Skipping line 21: expected 8 fields, saw 9\n",
      "Skipping line 206: expected 8 fields, saw 9\n",
      "Skipping line 6788: expected 8 fields, saw 9\n",
      "Skipping line 6822: expected 8 fields, saw 10\n",
      "\n",
      "  temp_data = pd.read_csv(f\"./py-billboard200/billboard-200-{yr}.csv\", on_bad_lines=\"warn\")   # \"warn\" if bad lines, so we know how many but for now won't do anything\n",
      "C:\\Users\\yfhua\\AppData\\Local\\Temp\\ipykernel_17696\\14272744.py:4: ParserWarning: Skipping line 186: expected 8 fields, saw 9\n",
      "Skipping line 382: expected 8 fields, saw 9\n",
      "Skipping line 546: expected 8 fields, saw 9\n",
      "Skipping line 749: expected 8 fields, saw 9\n",
      "Skipping line 926: expected 8 fields, saw 9\n",
      "Skipping line 1165: expected 8 fields, saw 9\n",
      "Skipping line 1360: expected 8 fields, saw 9\n",
      "Skipping line 1539: expected 8 fields, saw 9\n",
      "Skipping line 1732: expected 8 fields, saw 9\n",
      "Skipping line 1922: expected 8 fields, saw 9\n",
      "Skipping line 2115: expected 8 fields, saw 9\n",
      "Skipping line 2309: expected 8 fields, saw 9\n",
      "Skipping line 2496: expected 8 fields, saw 9\n",
      "Skipping line 2682: expected 8 fields, saw 9\n",
      "Skipping line 2875: expected 8 fields, saw 9\n",
      "Skipping line 3068: expected 8 fields, saw 9\n",
      "Skipping line 3251: expected 8 fields, saw 9\n",
      "Skipping line 3446: expected 8 fields, saw 9\n",
      "Skipping line 3648: expected 8 fields, saw 9\n",
      "Skipping line 3845: expected 8 fields, saw 9\n",
      "Skipping line 4045: expected 8 fields, saw 9\n",
      "Skipping line 4236: expected 8 fields, saw 9\n",
      "Skipping line 4433: expected 8 fields, saw 9\n",
      "Skipping line 4635: expected 8 fields, saw 9\n",
      "Skipping line 4836: expected 8 fields, saw 9\n",
      "Skipping line 5039: expected 8 fields, saw 9\n",
      "Skipping line 5237: expected 8 fields, saw 9\n",
      "Skipping line 5437: expected 8 fields, saw 9\n",
      "Skipping line 5636: expected 8 fields, saw 9\n",
      "Skipping line 5839: expected 8 fields, saw 9\n",
      "Skipping line 6054: expected 8 fields, saw 9\n",
      "Skipping line 6259: expected 8 fields, saw 9\n",
      "Skipping line 6459: expected 8 fields, saw 9\n",
      "Skipping line 6650: expected 8 fields, saw 9\n",
      "Skipping line 6847: expected 8 fields, saw 9\n",
      "Skipping line 7056: expected 8 fields, saw 9\n",
      "Skipping line 7268: expected 8 fields, saw 9\n",
      "Skipping line 7452: expected 8 fields, saw 9\n",
      "Skipping line 7652: expected 8 fields, saw 9\n",
      "Skipping line 7844: expected 8 fields, saw 9\n",
      "Skipping line 8047: expected 8 fields, saw 9\n",
      "Skipping line 8264: expected 8 fields, saw 9\n",
      "Skipping line 8468: expected 8 fields, saw 9\n",
      "Skipping line 8671: expected 8 fields, saw 9\n",
      "Skipping line 8856: expected 8 fields, saw 9\n",
      "Skipping line 9051: expected 8 fields, saw 9\n",
      "Skipping line 9239: expected 8 fields, saw 9\n",
      "Skipping line 9431: expected 8 fields, saw 9\n",
      "Skipping line 9637: expected 8 fields, saw 9\n",
      "Skipping line 9827: expected 8 fields, saw 9\n",
      "Skipping line 10047: expected 8 fields, saw 9\n",
      "Skipping line 10228: expected 8 fields, saw 9\n",
      "\n",
      "  temp_data = pd.read_csv(f\"./py-billboard200/billboard-200-{yr}.csv\", on_bad_lines=\"warn\")   # \"warn\" if bad lines, so we know how many but for now won't do anything\n",
      "C:\\Users\\yfhua\\AppData\\Local\\Temp\\ipykernel_17696\\14272744.py:4: ParserWarning: Skipping line 5389: expected 8 fields, saw 9\n",
      "Skipping line 5581: expected 8 fields, saw 9\n",
      "Skipping line 5767: expected 8 fields, saw 9\n",
      "Skipping line 5936: expected 8 fields, saw 9\n",
      "Skipping line 6112: expected 8 fields, saw 9\n",
      "Skipping line 6262: expected 8 fields, saw 9\n",
      "Skipping line 6342: expected 8 fields, saw 9\n",
      "Skipping line 6424: expected 8 fields, saw 9\n",
      "Skipping line 6444: expected 8 fields, saw 9\n",
      "Skipping line 6972: expected 8 fields, saw 9\n",
      "Skipping line 7570: expected 8 fields, saw 9\n",
      "Skipping line 7748: expected 8 fields, saw 9\n",
      "Skipping line 7930: expected 8 fields, saw 9\n",
      "Skipping line 8135: expected 8 fields, saw 9\n",
      "Skipping line 8308: expected 8 fields, saw 9\n",
      "Skipping line 8521: expected 8 fields, saw 9\n",
      "Skipping line 8733: expected 8 fields, saw 9\n",
      "Skipping line 8902: expected 8 fields, saw 9\n",
      "Skipping line 9065: expected 8 fields, saw 9\n",
      "Skipping line 9237: expected 8 fields, saw 9\n",
      "Skipping line 9511: expected 8 fields, saw 9\n",
      "Skipping line 9763: expected 8 fields, saw 9\n",
      "Skipping line 9996: expected 8 fields, saw 9\n",
      "Skipping line 10177: expected 8 fields, saw 9\n",
      "\n",
      "  temp_data = pd.read_csv(f\"./py-billboard200/billboard-200-{yr}.csv\", on_bad_lines=\"warn\")   # \"warn\" if bad lines, so we know how many but for now won't do anything\n",
      "C:\\Users\\yfhua\\AppData\\Local\\Temp\\ipykernel_17696\\14272744.py:4: ParserWarning: Skipping line 8459: expected 8 fields, saw 9\n",
      "Skipping line 8982: expected 8 fields, saw 9\n",
      "\n",
      "  temp_data = pd.read_csv(f\"./py-billboard200/billboard-200-{yr}.csv\", on_bad_lines=\"warn\")   # \"warn\" if bad lines, so we know how many but for now won't do anything\n"
     ]
    }
   ],
   "source": [
    "# Write your code here. Feel free to use more cells.\n",
    "billboard_ranking = pd.DataFrame()\n",
    "for yr in range(2006, 2021):\n",
    "    temp_data = pd.read_csv(f\"./py-billboard200/billboard-200-{yr}.csv\", on_bad_lines=\"warn\")   # \"warn\" if bad lines, so we know how many but for now won't do anything\n",
    "    temp_data = temp_data[[\"date\", \"title\", \"artist\", \"current\"]]   # keep columns\n",
    "    temp_data.rename(columns={'current': 'ranking'}, inplace=True)\n",
    "    billboard_ranking = pd.concat((billboard_ranking, temp_data), axis=0)"
   ]
  },
  {
   "cell_type": "markdown",
   "metadata": {},
   "source": [
    "1b. Print the first few rows of this data. "
   ]
  },
  {
   "cell_type": "code",
   "execution_count": 32,
   "metadata": {},
   "outputs": [
    {
     "data": {
      "text/html": [
       "<div>\n",
       "<style scoped>\n",
       "    .dataframe tbody tr th:only-of-type {\n",
       "        vertical-align: middle;\n",
       "    }\n",
       "\n",
       "    .dataframe tbody tr th {\n",
       "        vertical-align: top;\n",
       "    }\n",
       "\n",
       "    .dataframe thead th {\n",
       "        text-align: right;\n",
       "    }\n",
       "</style>\n",
       "<table border=\"1\" class=\"dataframe\">\n",
       "  <thead>\n",
       "    <tr style=\"text-align: right;\">\n",
       "      <th></th>\n",
       "      <th>date</th>\n",
       "      <th>title</th>\n",
       "      <th>artist</th>\n",
       "      <th>ranking</th>\n",
       "    </tr>\n",
       "  </thead>\n",
       "  <tbody>\n",
       "    <tr>\n",
       "      <th>0</th>\n",
       "      <td>2006-12-30</td>\n",
       "      <td>The Inspiration</td>\n",
       "      <td>Young Jeezy</td>\n",
       "      <td>1</td>\n",
       "    </tr>\n",
       "    <tr>\n",
       "      <th>1</th>\n",
       "      <td>2006-12-30</td>\n",
       "      <td>Taylor Hicks</td>\n",
       "      <td>Taylor Hicks</td>\n",
       "      <td>2</td>\n",
       "    </tr>\n",
       "    <tr>\n",
       "      <th>2</th>\n",
       "      <td>2006-12-30</td>\n",
       "      <td>Hannah Montana</td>\n",
       "      <td>Soundtrack</td>\n",
       "      <td>3</td>\n",
       "    </tr>\n",
       "    <tr>\n",
       "      <th>3</th>\n",
       "      <td>2006-12-30</td>\n",
       "      <td>NOW 23</td>\n",
       "      <td>Various Artists</td>\n",
       "      <td>4</td>\n",
       "    </tr>\n",
       "    <tr>\n",
       "      <th>4</th>\n",
       "      <td>2006-12-30</td>\n",
       "      <td>Awake</td>\n",
       "      <td>Josh Groban</td>\n",
       "      <td>5</td>\n",
       "    </tr>\n",
       "  </tbody>\n",
       "</table>\n",
       "</div>"
      ],
      "text/plain": [
       "         date            title           artist  ranking\n",
       "0  2006-12-30  The Inspiration      Young Jeezy        1\n",
       "1  2006-12-30     Taylor Hicks     Taylor Hicks        2\n",
       "2  2006-12-30   Hannah Montana       Soundtrack        3\n",
       "3  2006-12-30           NOW 23  Various Artists        4\n",
       "4  2006-12-30            Awake      Josh Groban        5"
      ]
     },
     "execution_count": 32,
     "metadata": {},
     "output_type": "execute_result"
    }
   ],
   "source": [
    "billboard_ranking.head()"
   ]
  },
  {
   "cell_type": "markdown",
   "metadata": {},
   "source": [
    "## 2. Date Conversion\n",
    "\n",
    "In the data, `date` is a string. Convert it to a date variable. Then generate `year` and `month` as two new columns. Then use .describe to check if values are sensible. "
   ]
  },
  {
   "cell_type": "code",
   "execution_count": 63,
   "metadata": {},
   "outputs": [],
   "source": [
    "# Write your code here.\n",
    "# convert date\n",
    "billboard_ranking[\"date\"] = pd.to_datetime(billboard_ranking[\"date\"], format=\"%Y-%m-%d\")\n",
    "# generate year and month\n",
    "billboard_ranking[\"year\"] = billboard_ranking[\"date\"].dt.year\n",
    "billboard_ranking[\"month\"] = billboard_ranking[\"date\"].dt.month\n"
   ]
  },
  {
   "cell_type": "code",
   "execution_count": 79,
   "metadata": {},
   "outputs": [
    {
     "name": "stdout",
     "output_type": "stream",
     "text": [
      "<class 'pandas.core.frame.DataFrame'>\n",
      "Index: 156504 entries, 0 to 10395\n",
      "Data columns (total 6 columns):\n",
      " #   Column   Non-Null Count   Dtype         \n",
      "---  ------   --------------   -----         \n",
      " 0   date     156504 non-null  datetime64[ns]\n",
      " 1   title    156504 non-null  object        \n",
      " 2   artist   156504 non-null  object        \n",
      " 3   ranking  156504 non-null  int64         \n",
      " 4   year     156504 non-null  int32         \n",
      " 5   month    156504 non-null  int32         \n",
      "dtypes: datetime64[ns](1), int32(2), int64(1), object(2)\n",
      "memory usage: 7.2+ MB\n"
     ]
    }
   ],
   "source": [
    "billboard_ranking.describe()"
   ]
  },
  {
   "cell_type": "markdown",
   "metadata": {},
   "source": [
    "## 3. Taylor Swift\n",
    "\n",
    "3a. Zoom in on the part of `billboard_ranking` data where the artist is \"Taylor Swift.\" Create another data frame, `taylor_ranking` for this subset of data."
   ]
  },
  {
   "cell_type": "code",
   "execution_count": 67,
   "metadata": {},
   "outputs": [],
   "source": [
    "# Write your code here.\n",
    "taylor_ranking = billboard_ranking[billboard_ranking[\"artist\"] == \"Taylor Swift\"]"
   ]
  },
  {
   "cell_type": "markdown",
   "metadata": {},
   "source": [
    "3b. Determine Taylor's Billboard ranking (`ranking`) for her best-ranked title on the following dates\n",
    "- the week of November 11, 2006: This is not long after her first albumn, \"Taylor Swift,\" was released.\n",
    "- the best ranking in the entire 2016: This is about 10 years after the previous date.\n",
    "\n",
    "How much has her rating improved between these two time periods? Present one percentage number.\n"
   ]
  },
  {
   "cell_type": "code",
   "execution_count": 75,
   "metadata": {},
   "outputs": [
    {
     "name": "stdout",
     "output_type": "stream",
     "text": [
      "Taylor's best ranking on Nov 11, 2006 was [19]\n"
     ]
    }
   ],
   "source": [
    "# Taylor's ranking in November 11, 2006\n",
    "rank_2006 = taylor_ranking.loc[taylor_ranking[\"date\"] == \"2006-11-11\", \"ranking\"]\n",
    "print(f\"Taylor's best ranking on Nov 11, 2006 was {rank_2006.values}\")"
   ]
  },
  {
   "cell_type": "code",
   "execution_count": 73,
   "metadata": {},
   "outputs": [
    {
     "name": "stdout",
     "output_type": "stream",
     "text": [
      "Taylor's best ranking on Nov 12, 2016 was 8\n"
     ]
    }
   ],
   "source": [
    "# Taylor's best ranking in the entire 2016\n",
    "rank_2016 = taylor_ranking.loc[taylor_ranking[\"year\"] == 2016, \"ranking\"].min()\n",
    "print(f\"Taylor's best ranking on Nov 12, 2016 was {rank_2016}\")"
   ]
  },
  {
   "cell_type": "code",
   "execution_count": 87,
   "metadata": {},
   "outputs": [
    {
     "name": "stdout",
     "output_type": "stream",
     "text": [
      "Taylor's rank improvement was [57.89]%\n"
     ]
    }
   ],
   "source": [
    "# Taylor's percentage improvement from Nov 2006 to 2016 was:\n",
    "improvement = rank_2016 / rank_2006.values - 1\n",
    "print(f\"Taylor's rank improvement was {(abs(improvement)*100).round(2)}%\")"
   ]
  },
  {
   "cell_type": "markdown",
   "metadata": {},
   "source": [
    "3c. Plot the ranking (`ranking`) of Taylor's album (`title`) \"Taylor Swift\" over time using the df_taylor DataFrame. Determine on your own what the appropriate plot type to use. Ensure that the plot is clear, with data correctly sorted, and appropriate labels for the axes and a title that reflects the content of the plot. \n"
   ]
  },
  {
   "cell_type": "code",
   "execution_count": 88,
   "metadata": {},
   "outputs": [
    {
     "data": {
      "image/png": "[encoded data removed]",
      "text/plain": [
       "<Figure size 640x480 with 1 Axes>"
      ]
     },
     "metadata": {},
     "output_type": "display_data"
    }
   ],
   "source": [
    "# Write your code here.\n",
    "taylor_swift_album_ranking = taylor_ranking[taylor_ranking[\"title\"] == \"Taylor Swift\"].sort_values(\"date\")\n",
    "plt.figure()\n",
    "plt.plot(taylor_swift_album_ranking[\"date\"], taylor_swift_album_ranking[\"ranking\"])\n",
    "plt.gca().invert_yaxis()            # Invert y-axis to have the highest ranking at the top\n",
    "plt.ylabel(\"ranking\")\n",
    "plt.title('Album \"Taylor Swift\" ranking over time')\n",
    "plt.show()"
   ]
  }
 ],
 "metadata": {
  "kernelspec": {
   "display_name": "gba464",
   "language": "python",
   "name": "python3"
  },
  "language_info": {
   "codemirror_mode": {
    "name": "ipython",
    "version": 3
   },
   "file_extension": ".py",
   "mimetype": "text/x-python",
   "name": "python",
   "nbconvert_exporter": "python",
   "pygments_lexer": "ipython3",
   "version": "3.9.19"
  }
 },
 "nbformat": 4,
 "nbformat_minor": 2
}

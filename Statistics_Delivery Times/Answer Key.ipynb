{
 "cells": [
  {
   "cell_type": "markdown",
   "metadata": {
    "colab_type": "text",
    "id": "dkmOv3mas4D1"
   },
   "source": [
    "# Core Statistics Using Python\n",
    "### Hana Choi, Simon Business School, University of Rochester\n"
   ]
  },
  {
   "cell_type": "markdown",
   "metadata": {
    "colab_type": "text",
    "id": "lPc4dSras4D3"
   },
   "source": [
    "# Assignment 2 Solutions\n",
    "\n",
    "## Here are the packages/modules we need for this notebook"
   ]
  },
  {
   "cell_type": "code",
   "execution_count": 40,
   "metadata": {
    "colab": {},
    "colab_type": "code",
    "executionInfo": {
     "elapsed": 222,
     "status": "ok",
     "timestamp": 1598648359460,
     "user": {
      "displayName": "Paul Ellickson",
      "photoUrl": "",
      "userId": "07742807759680804411"
     },
     "user_tz": 240
    },
    "id": "P1VEzGt8s4Ec"
   },
   "outputs": [],
   "source": [
    "import pandas as pd\n",
    "import numpy as np\n",
    "from scipy.stats import norm\n",
    "from scipy.stats import uniform"
   ]
  },
  {
   "cell_type": "markdown",
   "metadata": {
    "colab_type": "text",
    "id": "ancn1SyUs4Er"
   },
   "source": [
    "## Loading data: DeliveryTimes.xlsx"
   ]
  },
  {
   "cell_type": "code",
   "execution_count": 3,
   "metadata": {
    "colab": {
     "base_uri": "https://localhost:8080/",
     "height": 34
    },
    "colab_type": "code",
    "executionInfo": {
     "elapsed": 208,
     "status": "ok",
     "timestamp": 1598648361972,
     "user": {
      "displayName": "Paul Ellickson",
      "photoUrl": "",
      "userId": "07742807759680804411"
     },
     "user_tz": 240
    },
    "id": "-WLasSsxs4Es",
    "outputId": "63114ede-e83f-48a8-c888-bcfc2e0f71a4"
   },
   "outputs": [],
   "source": [
    "# Method 1: Save the data file directly to your working directory\n",
    "# df = pd.read_excel('DeliveryTimes.xlsx')\n",
    "\n",
    "# Method 2: Tell Python where your data file exists \"explicitly\"\n",
    "# Below is \"my\" file path, you should specify yours instead.\n",
    "df = pd.read_excel(\"/Users/hanachoi/Dropbox/teaching/core_statistics/Assignments/Data/DeliveryTimes.xlsx\")"
   ]
  },
  {
   "cell_type": "markdown",
   "metadata": {},
   "source": [
    "## Understanding the dataset"
   ]
  },
  {
   "cell_type": "code",
   "execution_count": 14,
   "metadata": {
    "colab": {
     "base_uri": "https://localhost:8080/",
     "height": 34
    },
    "colab_type": "code",
    "executionInfo": {
     "elapsed": 400,
     "status": "ok",
     "timestamp": 1598648364802,
     "user": {
      "displayName": "Paul Ellickson",
      "photoUrl": "",
      "userId": "07742807759680804411"
     },
     "user_tz": 240
    },
    "id": "fBJOzQrKs4Ev",
    "outputId": "1c8da1cc-10fa-471d-a5aa-4bbb948ad312",
    "scrolled": true
   },
   "outputs": [
    {
     "name": "stdout",
     "output_type": "stream",
     "text": [
      "   Trip  DeliveryTime\n",
      "0     1          46.5\n",
      "1     2          40.7\n",
      "2     3          43.0\n",
      "3     4          44.4\n",
      "4     5          46.8\n"
     ]
    }
   ],
   "source": [
    "# Display the first few rows of the dataframe\n",
    "print(df.head())"
   ]
  },
  {
   "cell_type": "code",
   "execution_count": 12,
   "metadata": {},
   "outputs": [
    {
     "name": "stdout",
     "output_type": "stream",
     "text": [
      "            Trip  DeliveryTime\n",
      "count  1400.0000   1400.000000\n",
      "mean    700.5000     45.106071\n",
      "std     404.2895      2.469763\n",
      "min       1.0000     36.900000\n",
      "25%     350.7500     43.500000\n",
      "50%     700.5000     45.100000\n",
      "75%    1050.2500     46.700000\n",
      "max    1400.0000     53.100000\n"
     ]
    }
   ],
   "source": [
    "# Summary statistics\n",
    "print(df.describe())"
   ]
  },
  {
   "cell_type": "code",
   "execution_count": 13,
   "metadata": {},
   "outputs": [
    {
     "name": "stdout",
     "output_type": "stream",
     "text": [
      "<class 'pandas.core.frame.DataFrame'>\n",
      "RangeIndex: 1400 entries, 0 to 1399\n",
      "Data columns (total 2 columns):\n",
      " #   Column        Non-Null Count  Dtype  \n",
      "---  ------        --------------  -----  \n",
      " 0   Trip          1400 non-null   int64  \n",
      " 1   DeliveryTime  1400 non-null   float64\n",
      "dtypes: float64(1), int64(1)\n",
      "memory usage: 22.0 KB\n",
      "None\n"
     ]
    }
   ],
   "source": [
    "# Check variable types\n",
    "print(df.info())"
   ]
  },
  {
   "cell_type": "markdown",
   "metadata": {},
   "source": [
    "# Question 1\n",
    "\n",
    "## Question 1 (a)"
   ]
  },
  {
   "cell_type": "code",
   "execution_count": 17,
   "metadata": {
    "scrolled": true
   },
   "outputs": [
    {
     "name": "stdout",
     "output_type": "stream",
     "text": [
      "Sample Mean: 45.106071428571425\n",
      "Sample SD: 2.469762585479157\n",
      "Sample Var: 6.09972722863269\n"
     ]
    }
   ],
   "source": [
    "df_mean =  df['DeliveryTime'].mean()\n",
    "print(\"Sample Mean:\", df_mean)\n",
    "\n",
    "df_sd = df['DeliveryTime'].std()\n",
    "print(\"Sample SD:\", df_sd)\n",
    "\n",
    "df_var = df['DeliveryTime'].var()\n",
    "print(\"Sample Var:\", df_var)"
   ]
  },
  {
   "cell_type": "markdown",
   "metadata": {},
   "source": [
    "## Question 1 (b)"
   ]
  },
  {
   "cell_type": "code",
   "execution_count": 19,
   "metadata": {},
   "outputs": [
    {
     "name": "stdout",
     "output_type": "stream",
     "text": [
      "Uniform Mean: 45.0\n",
      "Uniform Var: 75.0\n"
     ]
    }
   ],
   "source": [
    "# We know that the mean and variance of a uniform random variable distributed between 30 and 60 are:\n",
    "unif_mean =  (1/2)*(30+60)\n",
    "print(\"Uniform Mean:\", unif_mean)\n",
    "\n",
    "unif_var = (1/12)*(60-30)**2\n",
    "print(\"Uniform Var:\", unif_var)"
   ]
  },
  {
   "cell_type": "markdown",
   "metadata": {},
   "source": [
    "### Some comments about Question 1 (b)\n",
    "- The sample variance we found above 6.10, is WAY smaller than 75, which strongly suggests that the distribution is not uniform.\n",
    "- This was all I expected you to do. And if you want, you should feel free to stop reading now.\n",
    "- However, a somewhat more involved evaluation would involve looking at what the actual distribution looks like.\n",
    "- You can do this with the histogram function (covered in \"Describing & Visualizing Data\") handout, so not something I expected here.\n",
    "- Doing so yields the picture below which looks quite Normal (e.g. bell shaped).\n",
    "- You can compare this to the tab labeled Uniform, where I simulated data (using the random number generator) from a uniform distribution over 30 to 60.\n",
    "- You can see that it is not at all bell shaped, but rather quite flat instead.\n",
    "- There are some more formal tests of distribution shapes (e.g. K-S tests), but they are beyond the scope of this class."
   ]
  },
  {
   "cell_type": "code",
   "execution_count": 34,
   "metadata": {},
   "outputs": [
    {
     "data": {
      "text/plain": [
       "<Axes: >"
      ]
     },
     "execution_count": 34,
     "metadata": {},
     "output_type": "execute_result"
    },
    {
     "data": {
      "image/png": "[encoded data removed]",
      "text/plain": [
       "<Figure size 640x480 with 1 Axes>"
      ]
     },
     "metadata": {},
     "output_type": "display_data"
    }
   ],
   "source": [
    "# Histogram of DeliveryTimes in the dataset\n",
    "df['DeliveryTime'].hist(bins=20)"
   ]
  },
  {
   "cell_type": "code",
   "execution_count": 38,
   "metadata": {},
   "outputs": [
    {
     "name": "stdout",
     "output_type": "stream",
     "text": [
      "Sample Size: 1400\n"
     ]
    },
    {
     "data": {
      "text/plain": [
       "array([[<Axes: title={'center': '0'}>]], dtype=object)"
      ]
     },
     "execution_count": 38,
     "metadata": {},
     "output_type": "execute_result"
    },
    {
     "data": {
      "image/png": "[encoded data removed]",
      "text/plain": [
       "<Figure size 640x480 with 1 Axes>"
      ]
     },
     "metadata": {},
     "output_type": "display_data"
    }
   ],
   "source": [
    "# Generate a random sample from U[30, 60], with the sample size same as that of DeliveryTimes dataset\n",
    "\n",
    "# Sample size\n",
    "n = df.shape[0]\n",
    "print(\"Sample Size:\", n)\n",
    "\n",
    "# Generate a randome sample from U[30, 60]\n",
    "uniform_sample = np.random.uniform(low=30, high=60, size=n) \n",
    "\n",
    "# Histogram of a random sample from U[30, 60]\n",
    "pd.DataFrame(uniform_sample).hist(bins=20)"
   ]
  },
  {
   "cell_type": "markdown",
   "metadata": {},
   "source": [
    "## Question 1 (c)\n",
    "\n",
    "### Normal Distribution\n",
    "- Note that these are ranges for the whole population, not statements about the population mean. In other words, these are not confidence intervals."
   ]
  },
  {
   "cell_type": "code",
   "execution_count": 45,
   "metadata": {},
   "outputs": [
    {
     "name": "stdout",
     "output_type": "stream",
     "text": [
      "Normal 95% Interval: 40.26542571066775 49.9467171464751\n",
      "Normal 80% Interval: 41.940943320627134 48.27119953651572\n"
     ]
    }
   ],
   "source": [
    "# 95% interval\n",
    "range_l_95 = norm.ppf(0.025, loc=df_mean, scale=df_sd) # Alternatively, df_mean - 1.96*df_sd\n",
    "range_u_95 = norm.ppf(0.975, loc=df_mean, scale=df_sd) # Alternatively, df_mean + 1.96*df_sd\n",
    "print(\"Normal 95% Interval:\", range_l_95, range_u_95)\n",
    "\n",
    "# 80% Interval\n",
    "range_l_80 = norm.ppf(0.1, loc=df_mean, scale=df_sd) \n",
    "range_u_80 = norm.ppf(0.9, loc=df_mean, scale=df_sd) \n",
    "print(\"Normal 80% Interval:\", range_l_80, range_u_80)"
   ]
  },
  {
   "cell_type": "markdown",
   "metadata": {},
   "source": [
    "### Uniform Distribution\n",
    "\n",
    "- For the uniform, you have quite different answers."
   ]
  },
  {
   "cell_type": "code",
   "execution_count": 47,
   "metadata": {
    "colab": {
     "base_uri": "https://localhost:8080/",
     "height": 34
    },
    "colab_type": "code",
    "executionInfo": {
     "elapsed": 225,
     "status": "ok",
     "timestamp": 1598648367235,
     "user": {
      "displayName": "Paul Ellickson",
      "photoUrl": "",
      "userId": "07742807759680804411"
     },
     "user_tz": 240
    },
    "id": "f0SflmMls4Ez",
    "outputId": "c9096c4b-44cb-419d-af85-befc429dd9df"
   },
   "outputs": [
    {
     "name": "stdout",
     "output_type": "stream",
     "text": [
      "Uniform 95% Interval: 30.75 59.25\n",
      "Uniform 80% Interval: 33.0 57.0\n"
     ]
    }
   ],
   "source": [
    "# Set the lower and upper bounds for the Uniform distribution\n",
    "low = 30\n",
    "high = 60\n",
    "length = high - low\n",
    "\n",
    "# 95% interval\n",
    "range_l_95_unif = uniform.ppf(0.025, loc=low, scale=length) \n",
    "range_u_95_unif = uniform.ppf(0.975, loc=low, scale=length) \n",
    "print(\"Uniform 95% Interval:\", range_l_95_unif, range_u_95_unif)\n",
    "\n",
    "# 80% Interval\n",
    "range_l_80_unif = uniform.ppf(0.1, loc=low, scale=length) \n",
    "range_u_80_unif = uniform.ppf(0.9, loc=low, scale=length) \n",
    "print(\"Uniform 80% Interval:\", range_l_80_unif, range_u_80_unif)"
   ]
  },
  {
   "cell_type": "markdown",
   "metadata": {},
   "source": [
    "## Question 1 (d)\n",
    "\n",
    "### Normal Distribution"
   ]
  },
  {
   "cell_type": "code",
   "execution_count": 51,
   "metadata": {
    "scrolled": true
   },
   "outputs": [
    {
     "name": "stdout",
     "output_type": "stream",
     "text": [
      "Normal 45 or less: 0.48287148228144294\n",
      "Normal 40 or less: 0.01934663315217787\n",
      "Normal 50 or more: 0.023765482570924035\n"
     ]
    }
   ],
   "source": [
    "# 45 or less\n",
    "ans1 = norm.cdf(45, loc=df_mean, scale=df_sd)\n",
    "print(\"Normal 45 or less:\", ans1)\n",
    "\n",
    "ans2 = norm.cdf(40, loc=df_mean, scale=df_sd)\n",
    "print(\"Normal 40 or less:\", ans2)\n",
    "\n",
    "ans3 = 1 - norm.cdf(50, loc=df_mean, scale=df_sd)\n",
    "print(\"Normal 50 or more:\", ans3)"
   ]
  },
  {
   "cell_type": "markdown",
   "metadata": {},
   "source": [
    "### Uniform Distribution"
   ]
  },
  {
   "cell_type": "code",
   "execution_count": 52,
   "metadata": {},
   "outputs": [
    {
     "name": "stdout",
     "output_type": "stream",
     "text": [
      "Uniform 45 or less: 0.5\n",
      "Uniform 40 or less: 0.3333333333333333\n",
      "Uniform 50 or more: 0.33333333333333337\n"
     ]
    }
   ],
   "source": [
    "# 45 or less\n",
    "ans1 = uniform.cdf(45, loc=low, scale=length)\n",
    "print(\"Uniform 45 or less:\", ans1)\n",
    "\n",
    "ans2 = uniform.cdf(40, loc=low, scale=length)\n",
    "print(\"Uniform 40 or less:\", ans2)\n",
    "\n",
    "ans3 = 1 - uniform.cdf(50, loc=low, scale=length)\n",
    "print(\"Uniform 50 or more:\", ans3)"
   ]
  },
  {
   "cell_type": "markdown",
   "metadata": {},
   "source": [
    "## Question 1 (e)\n",
    "\n",
    "- For sure. If the population is normal(45.1, 2.47^2), you would only be giving away about 2.4% of the pizzas.\n",
    "- If it is uniform, it is more like 33.3%. This is a big difference!"
   ]
  },
  {
   "cell_type": "markdown",
   "metadata": {},
   "source": [
    "## Question 1 (f)\n",
    "\n",
    "- Now you are computing a confidence interval. This is a statement about the population mean, not the full distribution.\n",
    "- In particular, it is a statement about how confident you are in your estimate of the mean, which we can see above was about 45.1.\n",
    "- 95% confidence interval is calculated right below.\n",
    "- This is way narrower than what you found in part (c). There are two reasons for this.\n",
    "- First, and foremost, this is a confidence interval for the population mean, not a statement about the population as a whole.\n",
    "- Second, you have a very large sample size here, so you should have a high degree of confidence in your estimate, which is reflected in the narrow interval."
   ]
  },
  {
   "cell_type": "code",
   "execution_count": 53,
   "metadata": {
    "scrolled": true
   },
   "outputs": [
    {
     "name": "stdout",
     "output_type": "stream",
     "text": [
      "44.97669735266992 45.23544550447293\n"
     ]
    }
   ],
   "source": [
    "# The 95% CI is given by the following:\n",
    "sterr = df_sd / np.sqrt(n)\n",
    "CI_l_95 = df_mean - 1.96*sterr\n",
    "CI_u_95 = df_mean + 1.96*sterr\n",
    "print(CI_l_95, CI_u_95)"
   ]
  },
  {
   "cell_type": "markdown",
   "metadata": {},
   "source": [
    "## Question 1 (g)\n",
    "\n",
    "- No, the formula for the confidence interval relies on the law of large numbers and the central limit theorem, which do not require knowing the population distribution.\n",
    "- The same formula holds irrespective of what the underlying population distribution is."
   ]
  },
  {
   "cell_type": "markdown",
   "metadata": {},
   "source": [
    "## Question 1 (h)\n",
    "\n",
    "- H_0: mu=50 vs. H_a: mu!=50\n",
    "- We can reject the null at either the 5% or 1% levels, since the p-value is less than either .05 or .01.\n",
    "- Alternatively, you can also compare the |t-stat| with the critical values (1.96 for 5%, 2.58 for 1%). Since |t-stat|>critical value, we can rejet the null at either the 5% or 1% levels."
   ]
  },
  {
   "cell_type": "code",
   "execution_count": 55,
   "metadata": {},
   "outputs": [
    {
     "name": "stdout",
     "output_type": "stream",
     "text": [
      "t-statistics: -74.14236533216081\n",
      "p-value: 0.0\n"
     ]
    }
   ],
   "source": [
    "t_stat = (df_mean-50)/sterr\n",
    "print(\"t-statistics:\", t_stat)\n",
    "      \n",
    "p_value = 2*norm.pdf(-abs(t_stat))\n",
    "print(\"p-value:\", p_value)"
   ]
  }
 ],
 "metadata": {
  "colab": {
   "collapsed_sections": [],
   "name": "Notebook 1.ipynb",
   "provenance": []
  },
  "kernelspec": {
   "display_name": "Python 3 (ipykernel)",
   "language": "python",
   "name": "python3"
  },
  "language_info": {
   "codemirror_mode": {
    "name": "ipython",
    "version": 3
   },
   "file_extension": ".py",
   "mimetype": "text/x-python",
   "name": "python",
   "nbconvert_exporter": "python",
   "pygments_lexer": "ipython3",
   "version": "3.12.4"
  },
  "toc": {
   "base_numbering": 1,
   "nav_menu": {},
   "number_sections": true,
   "sideBar": true,
   "skip_h1_title": false,
   "title_cell": "Table of Contents",
   "title_sidebar": "Contents",
   "toc_cell": false,
   "toc_position": {},
   "toc_section_display": true,
   "toc_window_display": false
  }
 },
 "nbformat": 4,
 "nbformat_minor": 1
}

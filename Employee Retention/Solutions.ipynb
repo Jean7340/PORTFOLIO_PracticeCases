{
 "cells": [
  {
   "cell_type": "markdown",
   "id": "f1ea0aac",
   "metadata": {},
   "source": [
    "# Core Statistics Using Python\n",
    "### Hana Choi, Simon Business School, University of Rochester\n"
   ]
  },
  {
   "cell_type": "markdown",
   "id": "2d622844",
   "metadata": {},
   "source": [
    "# Assignment 5 Solutions\n",
    "\n",
    "\n",
    "## Required packages"
   ]
  },
  {
   "cell_type": "code",
   "execution_count": 26,
   "id": "ab4a85e6",
   "metadata": {},
   "outputs": [],
   "source": [
    "import pandas as pd\n",
    "import statsmodels.formula.api as smf\n",
    "from scipy import optimize"
   ]
  },
  {
   "cell_type": "markdown",
   "id": "3a7400b9",
   "metadata": {},
   "source": [
    "## Loading data"
   ]
  },
  {
   "cell_type": "code",
   "execution_count": 27,
   "id": "bf9bfed8",
   "metadata": {
    "scrolled": false
   },
   "outputs": [
    {
     "name": "stdout",
     "output_type": "stream",
     "text": [
      "   Store    Sales  Profit   MTenure    CTenure    Pop      Comp  Visibility  \\\n",
      "0      1  1060294  265014   0.00000  24.804930   7535  2.797888           3   \n",
      "1      2  1619874  424007  86.22219   6.636550   8630  4.235555           4   \n",
      "2      3  1099921  222735  23.88854   5.026694   9695  4.494666           3   \n",
      "3      4  1053860  210122   0.00000   5.371663   2797  4.253946           4   \n",
      "4      5  1227841  300480   3.87737   6.866530  20335  1.651364           2   \n",
      "\n",
      "   PedCount  Res  Hours24  \n",
      "0         3    1        1  \n",
      "1         3    1        1  \n",
      "2         3    1        1  \n",
      "3         2    1        1  \n",
      "4         5    0        1  \n",
      "----\n",
      "           Store         Sales         Profit     MTenure     CTenure  \\\n",
      "count  75.000000  7.500000e+01      75.000000   75.000000   75.000000   \n",
      "mean   38.000000  1.205413e+06  276313.613333   45.296444   13.931499   \n",
      "std    21.794495  3.045313e+05   89404.076338   57.671551   17.697517   \n",
      "min     1.000000  6.993060e+05  122180.000000    0.000000    0.887064   \n",
      "25%    19.500000  9.845790e+05  211003.500000    6.670391    4.394251   \n",
      "50%    38.000000  1.127332e+06  265014.000000   24.118560    7.211499   \n",
      "75%    56.500000  1.362388e+06  331313.500000   50.915125   17.215610   \n",
      "max    75.000000  2.113089e+06  518998.000000  277.987700  114.151900   \n",
      "\n",
      "                Pop       Comp  Visibility   PedCount        Res    Hours24  \n",
      "count     75.000000  75.000000   75.000000  75.000000  75.000000  75.000000  \n",
      "mean    9825.586667   3.787751    3.080000   2.960000   0.960000   0.840000  \n",
      "std     5911.673770   1.311390    0.749053   0.992404   0.197279   0.369075  \n",
      "min     1046.000000   1.651364    2.000000   1.000000   0.000000   0.000000  \n",
      "25%     5616.500000   3.150664    3.000000   2.000000   1.000000   1.000000  \n",
      "50%     8896.000000   3.628561    3.000000   3.000000   1.000000   1.000000  \n",
      "75%    14104.000000   4.229525    4.000000   4.000000   1.000000   1.000000  \n",
      "max    26519.000000  11.127880    5.000000   5.000000   1.000000   1.000000  \n"
     ]
    }
   ],
   "source": [
    "store24 = pd.read_csv(\"/Users/hanachoi/Dropbox/teaching/core_statistics/Assignments/Data/Store24Data.csv\", thousands=',')\n",
    "\n",
    "# Display the first few rows\n",
    "print(store24.head())\n",
    "print('----')\n",
    "\n",
    "# Summary of the dataset\n",
    "print(store24.describe())"
   ]
  },
  {
   "cell_type": "markdown",
   "id": "91c04759",
   "metadata": {},
   "source": [
    "# Questions (a) - (e)"
   ]
  },
  {
   "cell_type": "code",
   "execution_count": 28,
   "id": "c8613161",
   "metadata": {},
   "outputs": [
    {
     "name": "stdout",
     "output_type": "stream",
     "text": [
      "==============================================================================\n",
      "                 coef    std err          t      P>|t|      [0.025      0.975]\n",
      "------------------------------------------------------------------------------\n",
      "Intercept   7610.0415   6.68e+04      0.114      0.910   -1.26e+05    1.41e+05\n",
      "MTenure      760.9927    127.086      5.988      0.000     507.258    1014.727\n",
      "CTenure      944.9780    421.687      2.241      0.028     103.052    1786.904\n",
      "Pop            3.6666      1.466      2.501      0.015       0.739       6.594\n",
      "Comp       -2.529e+04   5491.937     -4.604      0.000   -3.63e+04   -1.43e+04\n",
      "Visibility  1.263e+04   9087.620      1.389      0.169   -5518.571    3.08e+04\n",
      "PedCount    3.409e+04   9073.196      3.757      0.000     1.6e+04    5.22e+04\n",
      "Res         9.158e+04   3.92e+04      2.334      0.023    1.33e+04     1.7e+05\n",
      "Hours24     6.323e+04   1.96e+04      3.219      0.002     2.4e+04    1.02e+05\n",
      "==============================================================================\n"
     ]
    }
   ],
   "source": [
    "# Linear regression model \n",
    "formula_input1 = 'Profit ~ MTenure + CTenure + Pop + Comp + Visibility + PedCount + Res + Hours24'\n",
    "reg1 = smf.ols(formula=formula_input1, data=store24).fit()\n",
    "print(reg1.summary().tables[1])"
   ]
  },
  {
   "cell_type": "markdown",
   "id": "1d30757a",
   "metadata": {},
   "source": [
    "## Question (a)\n",
    "\n",
    "- The coefficient on MTenure (761) implies that an additional month of manager tenure is associated with an expected increase in (yearly) profit of $761.\n",
    "\n",
    "- MTenure is statistically significant at the 1\\% level (p-value is < 0.01).\n",
    "\n",
    "## Question (b)\n",
    "\n",
    "- Likewise, the coefficient on CTenure (945) implies that an additional month of crew tenure is associated with an expected increase in (yearly) profit of $945.\n",
    "\n",
    "- CTenure is not statistically significant at the 1\\% level (p-value is > 0.01), but it is significant at the 5% level (p-value < 0.05).\n",
    "\n",
    "## Question (c)\n",
    "\n",
    "- Using the coefficient on CTenure, we can infer that a 1.38-month increase in crew tenure is associated with an expected increase in (yearly) profit of 1.38*945 = $1304.1\n",
    "\n",
    "- This is our best (point) estimate of the expected yearly increase in profit associated with a 1.38-month increase in crew tenure.\n",
    "\n",
    "- However, there is substantial uncertainty around this estimate. In particular, a 95\\% confidence interval for the increase in CTenure by 1.38-month is given by 1.38*(103.05, 1786.90) = (142.21, 2465.92), which is quite wide.\n",
    "\n",
    "- This means with 95\\% probability, we cannot rule out that the true impact of an increase of 1.38-month crew tenure on the (yearly) profit is as low as \\\\$142.21 and as high as \\\\$2465.92, a fairly wide range.\n",
    "\n",
    "- Converting these to the quarterly profit level, we have the 95% confidence interval of 0.25*(142.21, 2465.92) = (35.55, 616.48).\n",
    "\n",
    "- Weighing the cost and the benefit to the firm, if the average quarterly bonus for those managers increasing CTenure by 1.38 during the quarter is below \\\\$35.55, we can conclude that the recent store manager bonus plan is likely a successful one using a 5% significance level (if it's above \\\\$616.48 then not a successful one).\n",
    "\n",
    "- If the average quarterly bonus for those managers increasing CTenure by 1.38 during the quarter is between (35.55, 616.48), we cannot conclusively determine (statistically speaking) whether the recent bonus plan is a successful or not a successful one.\n",
    "\n",
    "- In this case, we might seek to collect more data (to increase the number of observations, or to increase the number of explanatory variables) and see if we can get a more precise estimate for the effect of CTenure on Profit.\n",
    "\n",
    "## Question (d)\n",
    "\n",
    "- 'Hours24' is a binary regressor taking values 0 and 1, and the coefficient estimate for 'Hours24' represents the difference in means for those open 24 hours and those not.\n",
    "\n",
    "- The estimate implies that the average (yearly) profit is $63,233 higher for those stores open 24 hours (i.e., Hours24==1) compared to those that are not.\n",
    "\n",
    "## Question (e)\n",
    "\n",
    "- The 95% confidence interval for 'Pop' on profit is (0.74, 6.59).\n",
    "\n",
    "- In words, this means that (0.74, 6.59) range will contain the true value of the parameter for 'Pop' with 95% probability.\n",
    "\n",
    "- It also means that with 95% probability, the true impact of a unit increase in 'Pop' (i.e., an additional person living within 1/2 mile radius) on the (yearly) profit is between \\\\$0.74 and \\\\$6.59.  \n",
    "\n",
    "## Question (f)\n"
   ]
  },
  {
   "cell_type": "code",
   "execution_count": 29,
   "id": "818d1f81",
   "metadata": {
    "scrolled": true
   },
   "outputs": [
    {
     "name": "stdout",
     "output_type": "stream",
     "text": [
      "==============================================================================\n",
      "                 coef    std err          t      P>|t|      [0.025      0.975]\n",
      "------------------------------------------------------------------------------\n",
      "Intercept    2.37e+05   1.31e+04     18.054      0.000    2.11e+05    2.63e+05\n",
      "MTenure      619.8420    166.696      3.718      0.000     287.539     952.145\n",
      "CTenure      810.1287    543.219      1.491      0.140    -272.758    1893.015\n",
      "==============================================================================\n",
      "----\n",
      "Adjusted R2 from reg1: 0.5940158638411897\n",
      "Adjusted R2 from reg2: 0.19504413998277492\n"
     ]
    }
   ],
   "source": [
    "formula_input2 = 'Profit ~ MTenure + CTenure'\n",
    "reg2 = smf.ols(formula=formula_input2, data=store24).fit()\n",
    "print(reg2.summary().tables[1])\n",
    "print('----')\n",
    "\n",
    "print(\"Adjusted R2 from reg1:\", reg1.rsquared_adj)\n",
    "print(\"Adjusted R2 from reg2:\", reg2.rsquared_adj)"
   ]
  },
  {
   "cell_type": "markdown",
   "id": "0337369d",
   "metadata": {},
   "source": [
    "- The site location factors are important for 1) controlling for possible omitted variable bias and 2) improving the precision of our estimates.\n",
    "\n",
    "- Omitted variable bias might arise if Store 24 is taking steps to ensure that better (more experienced) managers and crews are assigned to particular types of stores (could be the better locations, could be the worse ones, we can't be sure). \n",
    "\n",
    "- Dropping the site location factors from the analysis (see reg2 above), we find that the adjusted R^2 falls from .59 to .20, implying that site location factors are quite important in explaining the variation in profits. \n",
    "\n",
    "- Not surprisingly, the t-stats on MTenure and CTenure also fall, as there is now more unexplained variation adding noise to our estimates.\n",
    "\n",
    "- Finally, the coefficient estimates on MTenure and CTenure also fall, suggesting that omitted variable bias is indeed a concern (were we to leave the site location factors out). They should definitely be included.\n",
    "\n",
    "## Question (g)"
   ]
  },
  {
   "cell_type": "code",
   "execution_count": 30,
   "id": "bca7deb5",
   "metadata": {
    "scrolled": true
   },
   "outputs": [
    {
     "name": "stdout",
     "output_type": "stream",
     "text": [
      "===================================================================================\n",
      "                      coef    std err          t      P>|t|      [0.025      0.975]\n",
      "-----------------------------------------------------------------------------------\n",
      "Intercept       -2.418e+04   6.23e+04     -0.388      0.699   -1.49e+05       1e+05\n",
      "MTenure          1732.5482    312.207      5.549      0.000    1108.842    2356.254\n",
      "I(MTenure ** 2)    -4.8302      1.443     -3.348      0.001      -7.712      -1.948\n",
      "CTenure          2460.3589    974.711      2.524      0.014     513.151    4407.567\n",
      "I(CTenure ** 2)   -16.9008     10.376     -1.629      0.108     -37.629       3.828\n",
      "Pop                 3.4752      1.397      2.487      0.015       0.684       6.267\n",
      "Comp            -2.546e+04   5136.143     -4.956      0.000   -3.57e+04   -1.52e+04\n",
      "Visibility       1.976e+04   8750.212      2.258      0.027    2281.114    3.72e+04\n",
      "PedCount         3.914e+04   8486.859      4.612      0.000    2.22e+04    5.61e+04\n",
      "Res              6.271e+04   3.86e+04      1.626      0.109   -1.43e+04     1.4e+05\n",
      "Hours24          5.638e+04   1.82e+04      3.099      0.003       2e+04    9.27e+04\n",
      "===================================================================================\n",
      "----\n",
      "Adjusted R2 from reg1: 0.5940158638411897\n",
      "Adjusted R2 from reg3: 0.6583329896712663\n"
     ]
    }
   ],
   "source": [
    "formula_input3 = 'Profit ~ MTenure + I(MTenure**2) + CTenure + I(CTenure**2) + Pop + Comp + Visibility + PedCount + Res + Hours24'\n",
    "reg3 = smf.ols(formula=formula_input3, data=store24).fit()\n",
    "print(reg3.summary().tables[1])\n",
    "print('----')\n",
    "\n",
    "print(\"Adjusted R2 from reg1:\", reg1.rsquared_adj)\n",
    "print(\"Adjusted R2 from reg3:\", reg3.rsquared_adj)"
   ]
  },
  {
   "cell_type": "markdown",
   "id": "bf10e890",
   "metadata": {},
   "source": [
    "- We might expect there to be diminishing returns to tenure for both managers and crews since, at some point, they have presumably learned all that they can. We can account for this possibility using a non-linear specification. \n",
    "\n",
    "- Since part of our goal here is to learn whether a non-linear specification is appropriate, I will use a quadratic regression approach rather than taking logs of MTenure and CTenure. \n",
    "\n",
    "- Alternatively, you could have taken logs of MTenure and CTenure, but this would have required you to assume that diminishing returns exist, rather than allowing for either diminishing, increasing, or constant returns. Moreover, some of the values of MTenure are zero, for which the log function is not defined.\n",
    "\n",
    "- This requires creating two new variables (MTenure^2 and CTenure^2), which are the squares of the original tenure variables, and including them in the analysis. Doing so, we find that both manager and crew tenure display diminishing returns (the coefficients on MTenure^2 and Ctenure^2 are negative), although only MTenure^2 is significant at the 5% or 1% level.\n",
    "\n",
    "- We also find that the adjusted R^2 increases from .59 to .66."
   ]
  },
  {
   "cell_type": "markdown",
   "id": "e966a9c0",
   "metadata": {},
   "source": [
    "## Question (h)\n",
    "\n",
    "- Here we need to find the point at which we reach the top of the hill implied by the quadratic relationship between manager tenure and profit. \n",
    "\n",
    "- To do so, I used 'minimize_scalar' to maximize Profit (here, just the component of profit associated with MTenure), by changing the value of MTenure.\n",
    "\n",
    "$$1732.548 * MTenure - 4.830 * (MTenure^2)$$\n",
    "\n",
    "- We find that the manager's impact on profitability begins to diminish after 179 months (about 15 years).\n",
    "\n",
    "- You could also have done this by setting the derivative equal to zero and solving for the corresponding (optimal) level of tenure."
   ]
  },
  {
   "cell_type": "code",
   "execution_count": 31,
   "id": "6746491a",
   "metadata": {},
   "outputs": [
    {
     "name": "stdout",
     "output_type": "stream",
     "text": [
      "Optimal MTenure: 179.3435313308041\n",
      "Profit at the Optimal MTenure: 155360.65184570255\n"
     ]
    }
   ],
   "source": [
    "# Define the profit function\n",
    "def profit(mtenure, a, b):\n",
    "    profit = a * mtenure + b * mtenure**2\n",
    "    return profit\n",
    "\n",
    "# Maximize profit by minimizing the negative profit\n",
    "a = reg3.params['MTenure']\n",
    "b = reg3.params['I(MTenure ** 2)']\n",
    "result = optimize.minimize_scalar(lambda mtenure: -profit(mtenure, a, b), bounds=(0, 1000), method='bounded')\n",
    "print(\"Optimal MTenure:\", result.x)\n",
    "print(\"Profit at the Optimal MTenure:\", -result.fun)"
   ]
  }
 ],
 "metadata": {
  "kernelspec": {
   "display_name": "Python 3 (ipykernel)",
   "language": "python",
   "name": "python3"
  },
  "language_info": {
   "codemirror_mode": {
    "name": "ipython",
    "version": 3
   },
   "file_extension": ".py",
   "mimetype": "text/x-python",
   "name": "python",
   "nbconvert_exporter": "python",
   "pygments_lexer": "ipython3",
   "version": "3.12.2"
  },
  "toc": {
   "base_numbering": 1,
   "nav_menu": {},
   "number_sections": true,
   "sideBar": true,
   "skip_h1_title": false,
   "title_cell": "Table of Contents",
   "title_sidebar": "Contents",
   "toc_cell": false,
   "toc_position": {},
   "toc_section_display": true,
   "toc_window_display": false
  }
 },
 "nbformat": 4,
 "nbformat_minor": 5
}
